{
 "cells": [
  {
   "cell_type": "markdown",
   "metadata": {},
   "source": [
    "# # Introduction :-\n",
    "\n",
    "\n"
   ]
  },
  {
   "cell_type": "code",
   "execution_count": 1,
   "metadata": {
    "collapsed": false
   },
   "outputs": [],
   "source": [
    "# importing libraries and packages\n",
    "\n",
    "import pandas as pd\n",
    "import matplotlib.pyplot as plt\n",
    "import seaborn as sns\n",
    "import numpy as np\n",
    "import pandas as pd\n",
    "import calendar\n",
    "\n",
    "%matplotlib inline\n",
    "\n",
    "# default figsize for charts\n",
    "figsize = (8, 6)"
   ]
  },
  {
   "cell_type": "code",
   "execution_count": 2,
   "metadata": {
    "collapsed": false
   },
   "outputs": [
    {
     "name": "stdout",
     "output_type": "stream",
     "text": [
      "\n",
      "Death Records (row x col)  (2631171, 38)\n",
      "\n",
      "Death Records columns  ['Id' 'ResidentStatus' 'Education1989Revision' 'Education2003Revision'\n",
      " 'EducationReportingFlag' 'MonthOfDeath' 'Sex' 'AgeType' 'Age'\n",
      " 'AgeSubstitutionFlag' 'AgeRecode52' 'AgeRecode27' 'AgeRecode12'\n",
      " 'InfantAgeRecode22' 'PlaceOfDeathAndDecedentsStatus' 'MaritalStatus'\n",
      " 'DayOfWeekOfDeath' 'CurrentDataYear' 'InjuryAtWork' 'MannerOfDeath'\n",
      " 'MethodOfDisposition' 'Autopsy' 'ActivityCode' 'PlaceOfInjury' 'Icd10Code'\n",
      " 'CauseRecode358' 'CauseRecode113' 'InfantCauseRecode130' 'CauseRecode39'\n",
      " 'NumberOfEntityAxisConditions' 'NumberOfRecordAxisConditions' 'Race'\n",
      " 'BridgedRaceFlag' 'RaceImputationFlag' 'RaceRecode3' 'RaceRecode5'\n",
      " 'HispanicOrigin' 'HispanicOriginRaceRecode']\n",
      "\n",
      "Death caused (row x col)  (8, 2)\n",
      "\n",
      "Death caused columns  ['Code' 'Description']\n",
      "\n",
      "Day of death (row x col)  (8, 2)\n",
      "\n",
      "Day of death columns  ['Code' 'Description']\n",
      "\n",
      "Race Data (row x col)  (16, 2)\n",
      "\n",
      "Race Data columns  ['Code' 'Description']\n",
      "\n",
      "ICD10 Code desciption(row x col)  (12131, 2)\n",
      "\n",
      "ICD10 Code columns  ['Code' 'Description']\n",
      "\n",
      "Marital Status (row x col)  (5, 2)\n",
      "\n",
      "Marital Status columns  ['Code' 'Description']\n",
      "\n",
      "Education 2003 (row x col)  (9, 2)\n",
      "\n",
      "Education 2003 columns  ['Code' 'Description']\n"
     ]
    }
   ],
   "source": [
    "# reading csv files and storing them as pandas dataframe\n",
    "\n",
    "deathRecords = pd.read_csv(\"./input/DeathRecords.csv\")\n",
    "deathManner = pd.read_csv(\"./input/MannerOfDeath.csv\")\n",
    "deathDayOfWeek = pd.read_csv(\"./input/DayOfWeekOfDeath.csv\")\n",
    "raceData = pd.read_csv('./input/Race.csv')\n",
    "icd10 = pd.read_csv('./input/Icd10Code.csv')\n",
    "maritalStatus = pd.read_csv('./input/MaritalStatus.csv')\n",
    "Education2003 = pd.read_csv('./input/Education2003Revision.csv')\n",
    "\n",
    "print (\"\\nDeath Records (row x col) \",deathRecords.shape)\n",
    "print (\"\\nDeath Records columns \", deathRecords.columns.values)\n",
    "\n",
    "print (\"\\nDeath caused (row x col) \",deathManner.shape)\n",
    "print (\"\\nDeath caused columns \",deathManner.columns.values)\n",
    "\n",
    "print (\"\\nDay of death (row x col) \",deathDayOfWeek.shape)\n",
    "print (\"\\nDay of death columns \",deathDayOfWeek.columns.values)\n",
    "\n",
    "print (\"\\nRace Data (row x col) \",raceData.shape)\n",
    "print (\"\\nRace Data columns \",raceData.columns.values)\n",
    "\n",
    "\n",
    "print (\"\\nICD10 Code desciption(row x col) \",icd10.shape)\n",
    "print (\"\\nICD10 Code columns \",icd10.columns.values)\n",
    "\n",
    "print (\"\\nMarital Status (row x col) \",maritalStatus.shape)\n",
    "print (\"\\nMarital Status columns \",maritalStatus.columns.values)\n",
    "       \n",
    "print (\"\\nEducation 2003 (row x col) \",Education2003.shape)\n",
    "print (\"\\nEducation 2003 columns \",Education2003.columns.values)\n",
    "\n"
   ]
  },
  {
   "cell_type": "code",
   "execution_count": 3,
   "metadata": {
    "collapsed": false
   },
   "outputs": [
    {
     "name": "stdout",
     "output_type": "stream",
     "text": [
      "The count of rows with missing values in Death Records data: \n",
      " Id                                0\n",
      "ResidentStatus                    0\n",
      "Education1989Revision             0\n",
      "Education2003Revision             0\n",
      "EducationReportingFlag            0\n",
      "MonthOfDeath                      0\n",
      "Sex                               0\n",
      "AgeType                           0\n",
      "Age                               0\n",
      "AgeSubstitutionFlag               0\n",
      "AgeRecode52                       0\n",
      "AgeRecode27                       0\n",
      "AgeRecode12                       0\n",
      "InfantAgeRecode22                 0\n",
      "PlaceOfDeathAndDecedentsStatus    0\n",
      "MaritalStatus                     0\n",
      "DayOfWeekOfDeath                  0\n",
      "CurrentDataYear                   0\n",
      "InjuryAtWork                      0\n",
      "MannerOfDeath                     0\n",
      "MethodOfDisposition               0\n",
      "Autopsy                           0\n",
      "ActivityCode                      0\n",
      "PlaceOfInjury                     0\n",
      "Icd10Code                         0\n",
      "CauseRecode358                    0\n",
      "CauseRecode113                    0\n",
      "InfantCauseRecode130              0\n",
      "CauseRecode39                     0\n",
      "NumberOfEntityAxisConditions      0\n",
      "NumberOfRecordAxisConditions      0\n",
      "Race                              0\n",
      "BridgedRaceFlag                   0\n",
      "RaceImputationFlag                0\n",
      "RaceRecode3                       0\n",
      "RaceRecode5                       0\n",
      "HispanicOrigin                    0\n",
      "HispanicOriginRaceRecode          0\n",
      "dtype: int64\n",
      "\n",
      "The count of rows with missing values in Death caused by data: \n",
      " Code           0\n",
      "Description    0\n",
      "dtype: int64\n",
      "\n",
      "The count of rows with missing values in Death Day data: \n",
      " Code           0\n",
      "Description    0\n",
      "dtype: int64\n",
      "\n",
      "The count of rows with missing values in Race data: \n",
      " Code           0\n",
      "Description    0\n",
      "dtype: int64\n",
      "\n",
      "The count of rows with missing values in ICD10 data: \n",
      " Code           0\n",
      "Description    0\n",
      "dtype: int64\n",
      "\n",
      "The count of rows with missing values in Maritaln Status data: \n",
      " Code           0\n",
      "Description    0\n",
      "dtype: int64\n",
      "\n",
      "The count of rows with missing values in Education 2013 data: \n",
      " Code           0\n",
      "Description    0\n",
      "dtype: int64\n"
     ]
    }
   ],
   "source": [
    "# print the rows with missing data\n",
    "print (\"The count of rows with missing values in Death Records data: \\n\", deathRecords.isnull().sum())\n",
    "print (\"\\nThe count of rows with missing values in Death caused by data: \\n\", deathManner.isnull().sum())\n",
    "print (\"\\nThe count of rows with missing values in Death Day data: \\n\", deathDayOfWeek.isnull().sum())\n",
    "print (\"\\nThe count of rows with missing values in Race data: \\n\", raceData.isnull().sum())\n",
    "print (\"\\nThe count of rows with missing values in ICD10 data: \\n\", icd10.isnull().sum())\n",
    "print (\"\\nThe count of rows with missing values in Maritaln Status data: \\n\", maritalStatus.isnull().sum())\n",
    "print (\"\\nThe count of rows with missing values in Education 2013 data: \\n\", Education2003.isnull().sum())"
   ]
  },
  {
   "cell_type": "markdown",
   "metadata": {},
   "source": [
    "# Now let us explore the death records data"
   ]
  },
  {
   "cell_type": "code",
   "execution_count": 4,
   "metadata": {
    "collapsed": false
   },
   "outputs": [
    {
     "name": "stdout",
     "output_type": "stream",
     "text": [
      "    Code                                        Description\n",
      "0      0                                        Other races\n",
      "1      1                                              White\n",
      "2      2                                              Black\n",
      "3      3      American Indian (includes Aleuts and Eskimos)\n",
      "4      4                                            Chinese\n",
      "5      5                                           Japanese\n",
      "6      6                  Hawaiian (includes Part-Hawaiian)\n",
      "7      7                                           Filipino\n",
      "8      8                    Other Asian or Pacific Islander\n",
      "9     18                                       Asian Indian\n",
      "10    28                                             Korean\n",
      "11    38                                             Samoan\n",
      "12    48                                         Vietnamese\n",
      "13    58                                          Guamanian\n",
      "14    68  Other Asian or Pacific Islander in areas repor...\n",
      "15    78  Combined other Asian or Pacific Islander, incl...\n",
      "\n",
      " 1     2241510\n",
      "2      309504\n",
      "3       18031\n",
      "4       13297\n",
      "7       11074\n",
      "68       8737\n",
      "5        8159\n",
      "18       6778\n",
      "48       4913\n",
      "28       4711\n",
      "78       2818\n",
      "6         700\n",
      "38        623\n",
      "58        316\n",
      "Name: Race, dtype: int64\n"
     ]
    },
    {
     "data": {
      "text/plain": [
       "<matplotlib.axes._subplots.AxesSubplot at 0x19690820e48>"
      ]
     },
     "execution_count": 4,
     "metadata": {},
     "output_type": "execute_result"
    },
    {
     "data": {
      "image/png": "[encoded data removed]",
      "text/plain": [
       "<matplotlib.figure.Figure at 0x1968d7d7e80>"
      ]
     },
     "metadata": {},
     "output_type": "display_data"
    }
   ],
   "source": [
    "#examine if there is any relation between the race of the people who died\n",
    "print (raceData)\n",
    "print ('\\n',deathRecords['Race'].value_counts(sort=True))\n",
    "\n",
    "deathRecords['Race'].value_counts().plot(kind='bar')"
   ]
  },
  {
   "cell_type": "code",
   "execution_count": 6,
   "metadata": {
    "collapsed": false
   },
   "outputs": [
    {
     "name": "stdout",
     "output_type": "stream",
     "text": [
      "\n",
      "Death-Agent-code & description\n",
      "    Code            Description\n",
      "0     1               Accident\n",
      "1     2                Suicide\n",
      "2     3               Homicide\n",
      "3     4  Pending investigation\n",
      "4     5    Could not determine\n",
      "5     6         Self-Inflicted\n",
      "6     7                Natural\n",
      "7     0          Not specified\n",
      "\n",
      " Death Type\n",
      " 7    2059933\n",
      "0     364034\n",
      "1     132684\n",
      "2      43139\n",
      "3      16840\n",
      "5      10838\n",
      "4       3703\n",
      "Name: MannerOfDeath, dtype: int64\n"
     ]
    },
    {
     "data": {
      "text/plain": [
       "<matplotlib.axes._subplots.AxesSubplot at 0x196906c6978>"
      ]
     },
     "execution_count": 6,
     "metadata": {},
     "output_type": "execute_result"
    },
    {
     "data": {
      "image/png": "[encoded data removed]",
      "text/plain": [
       "<matplotlib.figure.Figure at 0x196906e9860>"
      ]
     },
     "metadata": {},
     "output_type": "display_data"
    }
   ],
   "source": [
    "# Show the Frequency distribution\n",
    "deathType=deathRecords['MannerOfDeath'].value_counts(sort=True)\n",
    "deathCnt=deathRecords['PlaceOfDeathAndDecedentsStatus'].value_counts(sort=True)\n",
    "\n",
    "print (\"\\nDeath-Agent-code & description\\n\",deathManner)\n",
    "print (\"\\n Death Type\\n\",deathType)\n",
    "\n",
    "deathType.plot(kind='bar')"
   ]
  },
  {
   "cell_type": "markdown",
   "metadata": {},
   "source": [
    "# Most dangerous 10 diseases "
   ]
  },
  {
   "cell_type": "code",
   "execution_count": 10,
   "metadata": {
    "collapsed": false
   },
   "outputs": [
    {
     "data": {
      "text/plain": [
       "I251    161961\n",
       "C349    154862\n",
       "F03     122021\n",
       "I219    114107\n",
       "J449    107836\n",
       "G309     91356\n",
       "I64      65578\n",
       "I250     60471\n",
       "I500     60420\n",
       "J189     44685\n",
       "Name: Icd10Code, dtype: int64"
      ]
     },
     "execution_count": 10,
     "metadata": {},
     "output_type": "execute_result"
    }
   ],
   "source": [
    "# create a order series with o\n",
    "# compiled a list of diseases in the number of deaths (from highest to lowest)\n",
    "deseasesDeathsList = deathRecords.Icd10Code.value_counts()\n",
    "deseasesDeathsList.head(10)"
   ]
  },
  {
   "cell_type": "markdown",
   "metadata": {},
   "source": [
    "# Total Deaths occured in 2014 in US"
   ]
  },
  {
   "cell_type": "code",
   "execution_count": 8,
   "metadata": {
    "collapsed": false
   },
   "outputs": [
    {
     "data": {
      "text/plain": [
       "2631171.0"
      ]
     },
     "execution_count": 8,
     "metadata": {},
     "output_type": "execute_result"
    }
   ],
   "source": [
    "# calculate total deaths\n",
    "totalDeaths = float(sum(deseasesDeathsList.values))\n",
    "totalDeaths"
   ]
  },
  {
   "cell_type": "code",
   "execution_count": 15,
   "metadata": {
    "collapsed": false
   },
   "outputs": [
    {
     "name": "stdout",
     "output_type": "stream",
     "text": [
      "I251                        Atherosclerotic heart disease\n",
      "C349    Malignant neoplasm: Bronchus or lung, unspecified\n",
      "F03                                  Unspecified dementia\n",
      "I219             Acute myocardial infarction, unspecified\n",
      "J449    Chronic obstructive pulmonary disease, unspeci...\n",
      "G309                       Alzheimer disease, unspecified\n",
      "I64     Stroke, not specified as haemorrhage or infarc...\n",
      "I250    Atherosclerotic cardiovascular disease, so des...\n",
      "I500                             Congestive heart failure\n",
      "J189                               Pneumonia, unspecified\n",
      "Name: Description, dtype: object\n"
     ]
    },
    {
     "data": {
      "text/plain": [
       "I251    161961\n",
       "C349    154862\n",
       "F03     122021\n",
       "I219    114107\n",
       "J449    107836\n",
       "G309     91356\n",
       "I64      65578\n",
       "I250     60471\n",
       "I500     60420\n",
       "J189     44685\n",
       "Name: Value, dtype: int64"
      ]
     },
     "execution_count": 15,
     "metadata": {},
     "output_type": "execute_result"
    }
   ],
   "source": [
    "icdcodes = []\n",
    "for x in deseasesDeathsList.index:\n",
    "    tmp = icd10[icd10.Code == x]\n",
    "    if tmp.empty:\n",
    "        desc = ''\n",
    "    else:\n",
    "        desc = tmp.Description.values[0]\n",
    "    icdcodes.append(desc)\n",
    "\n",
    "s2 = pd.Series(icdcodes, index=deseasesDeathsList.index, name='Description')\n",
    "print (s2.head(10))\n",
    "\n",
    "s1 = pd.Series(deseasesDeathsList.values, index=deseasesDeathsList.index, name='Value')\n",
    "s1.head(10)\n",
    "\n"
   ]
  },
  {
   "cell_type": "code",
   "execution_count": null,
   "metadata": {
    "collapsed": false
   },
   "outputs": [],
   "source": []
  },
  {
   "cell_type": "code",
   "execution_count": null,
   "metadata": {
    "collapsed": true
   },
   "outputs": [],
   "source": []
  }
 ],
 "metadata": {
  "anaconda-cloud": {},
  "kernelspec": {
   "display_name": "Python [conda root]",
   "language": "python",
   "name": "conda-root-py"
  },
  "language_info": {
   "codemirror_mode": {
    "name": "ipython",
    "version": 3
   },
   "file_extension": ".py",
   "mimetype": "text/x-python",
   "name": "python",
   "nbconvert_exporter": "python",
   "pygments_lexer": "ipython3",
   "version": "3.5.2"
  }
 },
 "nbformat": 4,
 "nbformat_minor": 1
}
